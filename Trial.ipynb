{
 "cells": [
  {
   "cell_type": "code",
   "execution_count": 139,
   "metadata": {},
   "outputs": [],
   "source": [
    "import numpy as np\n",
    "import pandas as pd\n",
    "import seaborn as sns\n",
    "import matplotlib.pyplot as plt"
   ]
  },
  {
   "cell_type": "code",
   "execution_count": 140,
   "metadata": {},
   "outputs": [],
   "source": [
    "data=pd.read_csv(\"all_month (1).csv\")"
   ]
  },
  {
   "cell_type": "code",
   "execution_count": 141,
   "metadata": {},
   "outputs": [
    {
     "data": {
      "text/html": [
       "<div>\n",
       "<style scoped>\n",
       "    .dataframe tbody tr th:only-of-type {\n",
       "        vertical-align: middle;\n",
       "    }\n",
       "\n",
       "    .dataframe tbody tr th {\n",
       "        vertical-align: top;\n",
       "    }\n",
       "\n",
       "    .dataframe thead th {\n",
       "        text-align: right;\n",
       "    }\n",
       "</style>\n",
       "<table border=\"1\" class=\"dataframe\">\n",
       "  <thead>\n",
       "    <tr style=\"text-align: right;\">\n",
       "      <th></th>\n",
       "      <th>time</th>\n",
       "      <th>latitude</th>\n",
       "      <th>longitude</th>\n",
       "      <th>depth</th>\n",
       "      <th>mag</th>\n",
       "      <th>magType</th>\n",
       "      <th>nst</th>\n",
       "      <th>gap</th>\n",
       "      <th>dmin</th>\n",
       "      <th>rms</th>\n",
       "      <th>...</th>\n",
       "      <th>updated</th>\n",
       "      <th>place</th>\n",
       "      <th>type</th>\n",
       "      <th>horizontalError</th>\n",
       "      <th>depthError</th>\n",
       "      <th>magError</th>\n",
       "      <th>magNst</th>\n",
       "      <th>status</th>\n",
       "      <th>locationSource</th>\n",
       "      <th>magSource</th>\n",
       "    </tr>\n",
       "  </thead>\n",
       "  <tbody>\n",
       "    <tr>\n",
       "      <th>0</th>\n",
       "      <td>2020-07-16T14:13:08.670Z</td>\n",
       "      <td>40.366665</td>\n",
       "      <td>-123.920502</td>\n",
       "      <td>20.23</td>\n",
       "      <td>1.87</td>\n",
       "      <td>md</td>\n",
       "      <td>5.0</td>\n",
       "      <td>167.0</td>\n",
       "      <td>0.096860</td>\n",
       "      <td>0.00</td>\n",
       "      <td>...</td>\n",
       "      <td>2020-07-16T14:15:31.404Z</td>\n",
       "      <td>22km SE of Rio Dell, CA</td>\n",
       "      <td>earthquake</td>\n",
       "      <td>2.36</td>\n",
       "      <td>0.60</td>\n",
       "      <td>0.060</td>\n",
       "      <td>4.0</td>\n",
       "      <td>automatic</td>\n",
       "      <td>nc</td>\n",
       "      <td>nc</td>\n",
       "    </tr>\n",
       "    <tr>\n",
       "      <th>1</th>\n",
       "      <td>2020-07-16T14:04:35.830Z</td>\n",
       "      <td>38.815666</td>\n",
       "      <td>-122.817833</td>\n",
       "      <td>2.34</td>\n",
       "      <td>1.37</td>\n",
       "      <td>md</td>\n",
       "      <td>28.0</td>\n",
       "      <td>50.0</td>\n",
       "      <td>0.009813</td>\n",
       "      <td>0.03</td>\n",
       "      <td>...</td>\n",
       "      <td>2020-07-16T14:12:05.510Z</td>\n",
       "      <td>7km NW of The Geysers, CA</td>\n",
       "      <td>earthquake</td>\n",
       "      <td>0.19</td>\n",
       "      <td>0.38</td>\n",
       "      <td>0.130</td>\n",
       "      <td>5.0</td>\n",
       "      <td>automatic</td>\n",
       "      <td>nc</td>\n",
       "      <td>nc</td>\n",
       "    </tr>\n",
       "    <tr>\n",
       "      <th>2</th>\n",
       "      <td>2020-07-16T13:59:57.770Z</td>\n",
       "      <td>36.399333</td>\n",
       "      <td>-117.952000</td>\n",
       "      <td>-0.30</td>\n",
       "      <td>1.78</td>\n",
       "      <td>ml</td>\n",
       "      <td>18.0</td>\n",
       "      <td>106.0</td>\n",
       "      <td>0.111000</td>\n",
       "      <td>0.28</td>\n",
       "      <td>...</td>\n",
       "      <td>2020-07-16T14:04:10.703Z</td>\n",
       "      <td>14km NNE of Olancha, CA</td>\n",
       "      <td>earthquake</td>\n",
       "      <td>0.66</td>\n",
       "      <td>31.61</td>\n",
       "      <td>0.184</td>\n",
       "      <td>25.0</td>\n",
       "      <td>automatic</td>\n",
       "      <td>ci</td>\n",
       "      <td>ci</td>\n",
       "    </tr>\n",
       "    <tr>\n",
       "      <th>3</th>\n",
       "      <td>2020-07-16T13:58:38.770Z</td>\n",
       "      <td>19.374332</td>\n",
       "      <td>-155.293839</td>\n",
       "      <td>7.54</td>\n",
       "      <td>1.72</td>\n",
       "      <td>md</td>\n",
       "      <td>12.0</td>\n",
       "      <td>255.0</td>\n",
       "      <td>NaN</td>\n",
       "      <td>0.15</td>\n",
       "      <td>...</td>\n",
       "      <td>2020-07-16T14:01:34.530Z</td>\n",
       "      <td>9 km SW of Volcano, Hawaii</td>\n",
       "      <td>earthquake</td>\n",
       "      <td>1.68</td>\n",
       "      <td>1.03</td>\n",
       "      <td>0.770</td>\n",
       "      <td>7.0</td>\n",
       "      <td>automatic</td>\n",
       "      <td>hv</td>\n",
       "      <td>hv</td>\n",
       "    </tr>\n",
       "    <tr>\n",
       "      <th>4</th>\n",
       "      <td>2020-07-16T13:55:28.740Z</td>\n",
       "      <td>33.483667</td>\n",
       "      <td>-116.792500</td>\n",
       "      <td>6.24</td>\n",
       "      <td>0.41</td>\n",
       "      <td>ml</td>\n",
       "      <td>16.0</td>\n",
       "      <td>49.0</td>\n",
       "      <td>0.029370</td>\n",
       "      <td>0.17</td>\n",
       "      <td>...</td>\n",
       "      <td>2020-07-16T13:59:14.070Z</td>\n",
       "      <td>8km NE of Aguanga, CA</td>\n",
       "      <td>earthquake</td>\n",
       "      <td>0.32</td>\n",
       "      <td>0.95</td>\n",
       "      <td>0.131</td>\n",
       "      <td>9.0</td>\n",
       "      <td>automatic</td>\n",
       "      <td>ci</td>\n",
       "      <td>ci</td>\n",
       "    </tr>\n",
       "  </tbody>\n",
       "</table>\n",
       "<p>5 rows × 22 columns</p>\n",
       "</div>"
      ],
      "text/plain": [
       "                       time   latitude   longitude  depth   mag magType   nst  \\\n",
       "0  2020-07-16T14:13:08.670Z  40.366665 -123.920502  20.23  1.87      md   5.0   \n",
       "1  2020-07-16T14:04:35.830Z  38.815666 -122.817833   2.34  1.37      md  28.0   \n",
       "2  2020-07-16T13:59:57.770Z  36.399333 -117.952000  -0.30  1.78      ml  18.0   \n",
       "3  2020-07-16T13:58:38.770Z  19.374332 -155.293839   7.54  1.72      md  12.0   \n",
       "4  2020-07-16T13:55:28.740Z  33.483667 -116.792500   6.24  0.41      ml  16.0   \n",
       "\n",
       "     gap      dmin   rms  ...                   updated  \\\n",
       "0  167.0  0.096860  0.00  ...  2020-07-16T14:15:31.404Z   \n",
       "1   50.0  0.009813  0.03  ...  2020-07-16T14:12:05.510Z   \n",
       "2  106.0  0.111000  0.28  ...  2020-07-16T14:04:10.703Z   \n",
       "3  255.0       NaN  0.15  ...  2020-07-16T14:01:34.530Z   \n",
       "4   49.0  0.029370  0.17  ...  2020-07-16T13:59:14.070Z   \n",
       "\n",
       "                        place        type horizontalError depthError  \\\n",
       "0     22km SE of Rio Dell, CA  earthquake            2.36       0.60   \n",
       "1   7km NW of The Geysers, CA  earthquake            0.19       0.38   \n",
       "2     14km NNE of Olancha, CA  earthquake            0.66      31.61   \n",
       "3  9 km SW of Volcano, Hawaii  earthquake            1.68       1.03   \n",
       "4       8km NE of Aguanga, CA  earthquake            0.32       0.95   \n",
       "\n",
       "   magError  magNst     status  locationSource magSource  \n",
       "0     0.060     4.0  automatic              nc        nc  \n",
       "1     0.130     5.0  automatic              nc        nc  \n",
       "2     0.184    25.0  automatic              ci        ci  \n",
       "3     0.770     7.0  automatic              hv        hv  \n",
       "4     0.131     9.0  automatic              ci        ci  \n",
       "\n",
       "[5 rows x 22 columns]"
      ]
     },
     "execution_count": 141,
     "metadata": {},
     "output_type": "execute_result"
    }
   ],
   "source": [
    "data.head()"
   ]
  },
  {
   "cell_type": "code",
   "execution_count": 142,
   "metadata": {},
   "outputs": [],
   "source": [
    "data.drop(['magType','nst','gap','rms','updated','type','horizontalError','depthError','magError','magNst','status','locationSource','magSource'],axis=1,inplace=True)"
   ]
  },
  {
   "cell_type": "code",
   "execution_count": 143,
   "metadata": {},
   "outputs": [
    {
     "data": {
      "text/html": [
       "<div>\n",
       "<style scoped>\n",
       "    .dataframe tbody tr th:only-of-type {\n",
       "        vertical-align: middle;\n",
       "    }\n",
       "\n",
       "    .dataframe tbody tr th {\n",
       "        vertical-align: top;\n",
       "    }\n",
       "\n",
       "    .dataframe thead th {\n",
       "        text-align: right;\n",
       "    }\n",
       "</style>\n",
       "<table border=\"1\" class=\"dataframe\">\n",
       "  <thead>\n",
       "    <tr style=\"text-align: right;\">\n",
       "      <th></th>\n",
       "      <th>time</th>\n",
       "      <th>latitude</th>\n",
       "      <th>longitude</th>\n",
       "      <th>depth</th>\n",
       "      <th>mag</th>\n",
       "      <th>dmin</th>\n",
       "      <th>net</th>\n",
       "      <th>id</th>\n",
       "      <th>place</th>\n",
       "    </tr>\n",
       "  </thead>\n",
       "  <tbody>\n",
       "    <tr>\n",
       "      <th>0</th>\n",
       "      <td>2020-07-16T14:13:08.670Z</td>\n",
       "      <td>40.366665</td>\n",
       "      <td>-123.920502</td>\n",
       "      <td>20.23</td>\n",
       "      <td>1.87</td>\n",
       "      <td>0.096860</td>\n",
       "      <td>nc</td>\n",
       "      <td>nc73427091</td>\n",
       "      <td>22km SE of Rio Dell, CA</td>\n",
       "    </tr>\n",
       "    <tr>\n",
       "      <th>1</th>\n",
       "      <td>2020-07-16T14:04:35.830Z</td>\n",
       "      <td>38.815666</td>\n",
       "      <td>-122.817833</td>\n",
       "      <td>2.34</td>\n",
       "      <td>1.37</td>\n",
       "      <td>0.009813</td>\n",
       "      <td>nc</td>\n",
       "      <td>nc73427086</td>\n",
       "      <td>7km NW of The Geysers, CA</td>\n",
       "    </tr>\n",
       "    <tr>\n",
       "      <th>2</th>\n",
       "      <td>2020-07-16T13:59:57.770Z</td>\n",
       "      <td>36.399333</td>\n",
       "      <td>-117.952000</td>\n",
       "      <td>-0.30</td>\n",
       "      <td>1.78</td>\n",
       "      <td>0.111000</td>\n",
       "      <td>ci</td>\n",
       "      <td>ci38593058</td>\n",
       "      <td>14km NNE of Olancha, CA</td>\n",
       "    </tr>\n",
       "    <tr>\n",
       "      <th>3</th>\n",
       "      <td>2020-07-16T13:58:38.770Z</td>\n",
       "      <td>19.374332</td>\n",
       "      <td>-155.293839</td>\n",
       "      <td>7.54</td>\n",
       "      <td>1.72</td>\n",
       "      <td>NaN</td>\n",
       "      <td>hv</td>\n",
       "      <td>hv72046837</td>\n",
       "      <td>9 km SW of Volcano, Hawaii</td>\n",
       "    </tr>\n",
       "    <tr>\n",
       "      <th>4</th>\n",
       "      <td>2020-07-16T13:55:28.740Z</td>\n",
       "      <td>33.483667</td>\n",
       "      <td>-116.792500</td>\n",
       "      <td>6.24</td>\n",
       "      <td>0.41</td>\n",
       "      <td>0.029370</td>\n",
       "      <td>ci</td>\n",
       "      <td>ci38593042</td>\n",
       "      <td>8km NE of Aguanga, CA</td>\n",
       "    </tr>\n",
       "  </tbody>\n",
       "</table>\n",
       "</div>"
      ],
      "text/plain": [
       "                       time   latitude   longitude  depth   mag      dmin net  \\\n",
       "0  2020-07-16T14:13:08.670Z  40.366665 -123.920502  20.23  1.87  0.096860  nc   \n",
       "1  2020-07-16T14:04:35.830Z  38.815666 -122.817833   2.34  1.37  0.009813  nc   \n",
       "2  2020-07-16T13:59:57.770Z  36.399333 -117.952000  -0.30  1.78  0.111000  ci   \n",
       "3  2020-07-16T13:58:38.770Z  19.374332 -155.293839   7.54  1.72       NaN  hv   \n",
       "4  2020-07-16T13:55:28.740Z  33.483667 -116.792500   6.24  0.41  0.029370  ci   \n",
       "\n",
       "           id                       place  \n",
       "0  nc73427091     22km SE of Rio Dell, CA  \n",
       "1  nc73427086   7km NW of The Geysers, CA  \n",
       "2  ci38593058     14km NNE of Olancha, CA  \n",
       "3  hv72046837  9 km SW of Volcano, Hawaii  \n",
       "4  ci38593042       8km NE of Aguanga, CA  "
      ]
     },
     "execution_count": 143,
     "metadata": {},
     "output_type": "execute_result"
    }
   ],
   "source": [
    "data.head()"
   ]
  },
  {
   "cell_type": "code",
   "execution_count": 144,
   "metadata": {},
   "outputs": [],
   "source": [
    "data.drop(['net','id'],axis=1,inplace=True)"
   ]
  },
  {
   "cell_type": "code",
   "execution_count": 145,
   "metadata": {},
   "outputs": [
    {
     "data": {
      "text/html": [
       "<div>\n",
       "<style scoped>\n",
       "    .dataframe tbody tr th:only-of-type {\n",
       "        vertical-align: middle;\n",
       "    }\n",
       "\n",
       "    .dataframe tbody tr th {\n",
       "        vertical-align: top;\n",
       "    }\n",
       "\n",
       "    .dataframe thead th {\n",
       "        text-align: right;\n",
       "    }\n",
       "</style>\n",
       "<table border=\"1\" class=\"dataframe\">\n",
       "  <thead>\n",
       "    <tr style=\"text-align: right;\">\n",
       "      <th></th>\n",
       "      <th>time</th>\n",
       "      <th>latitude</th>\n",
       "      <th>longitude</th>\n",
       "      <th>depth</th>\n",
       "      <th>mag</th>\n",
       "      <th>dmin</th>\n",
       "      <th>place</th>\n",
       "    </tr>\n",
       "  </thead>\n",
       "  <tbody>\n",
       "    <tr>\n",
       "      <th>0</th>\n",
       "      <td>2020-07-16T14:13:08.670Z</td>\n",
       "      <td>40.366665</td>\n",
       "      <td>-123.920502</td>\n",
       "      <td>20.23</td>\n",
       "      <td>1.87</td>\n",
       "      <td>0.096860</td>\n",
       "      <td>22km SE of Rio Dell, CA</td>\n",
       "    </tr>\n",
       "    <tr>\n",
       "      <th>1</th>\n",
       "      <td>2020-07-16T14:04:35.830Z</td>\n",
       "      <td>38.815666</td>\n",
       "      <td>-122.817833</td>\n",
       "      <td>2.34</td>\n",
       "      <td>1.37</td>\n",
       "      <td>0.009813</td>\n",
       "      <td>7km NW of The Geysers, CA</td>\n",
       "    </tr>\n",
       "    <tr>\n",
       "      <th>2</th>\n",
       "      <td>2020-07-16T13:59:57.770Z</td>\n",
       "      <td>36.399333</td>\n",
       "      <td>-117.952000</td>\n",
       "      <td>-0.30</td>\n",
       "      <td>1.78</td>\n",
       "      <td>0.111000</td>\n",
       "      <td>14km NNE of Olancha, CA</td>\n",
       "    </tr>\n",
       "    <tr>\n",
       "      <th>3</th>\n",
       "      <td>2020-07-16T13:58:38.770Z</td>\n",
       "      <td>19.374332</td>\n",
       "      <td>-155.293839</td>\n",
       "      <td>7.54</td>\n",
       "      <td>1.72</td>\n",
       "      <td>NaN</td>\n",
       "      <td>9 km SW of Volcano, Hawaii</td>\n",
       "    </tr>\n",
       "    <tr>\n",
       "      <th>4</th>\n",
       "      <td>2020-07-16T13:55:28.740Z</td>\n",
       "      <td>33.483667</td>\n",
       "      <td>-116.792500</td>\n",
       "      <td>6.24</td>\n",
       "      <td>0.41</td>\n",
       "      <td>0.029370</td>\n",
       "      <td>8km NE of Aguanga, CA</td>\n",
       "    </tr>\n",
       "  </tbody>\n",
       "</table>\n",
       "</div>"
      ],
      "text/plain": [
       "                       time   latitude   longitude  depth   mag      dmin  \\\n",
       "0  2020-07-16T14:13:08.670Z  40.366665 -123.920502  20.23  1.87  0.096860   \n",
       "1  2020-07-16T14:04:35.830Z  38.815666 -122.817833   2.34  1.37  0.009813   \n",
       "2  2020-07-16T13:59:57.770Z  36.399333 -117.952000  -0.30  1.78  0.111000   \n",
       "3  2020-07-16T13:58:38.770Z  19.374332 -155.293839   7.54  1.72       NaN   \n",
       "4  2020-07-16T13:55:28.740Z  33.483667 -116.792500   6.24  0.41  0.029370   \n",
       "\n",
       "                        place  \n",
       "0     22km SE of Rio Dell, CA  \n",
       "1   7km NW of The Geysers, CA  \n",
       "2     14km NNE of Olancha, CA  \n",
       "3  9 km SW of Volcano, Hawaii  \n",
       "4       8km NE of Aguanga, CA  "
      ]
     },
     "execution_count": 145,
     "metadata": {},
     "output_type": "execute_result"
    }
   ],
   "source": [
    "data.head()"
   ]
  },
  {
   "cell_type": "code",
   "execution_count": 146,
   "metadata": {
    "scrolled": true
   },
   "outputs": [
    {
     "data": {
      "text/plain": [
       "1.87"
      ]
     },
     "execution_count": 146,
     "metadata": {},
     "output_type": "execute_result"
    }
   ],
   "source": [
    "data['mag'][0]"
   ]
  },
  {
   "cell_type": "code",
   "execution_count": 147,
   "metadata": {},
   "outputs": [],
   "source": [
    "data['dmin'].replace(np.nan,data['dmin'].mean(),inplace=True)"
   ]
  },
  {
   "cell_type": "code",
   "execution_count": 148,
   "metadata": {
    "scrolled": true
   },
   "outputs": [
    {
     "data": {
      "text/plain": [
       "<matplotlib.axes._subplots.AxesSubplot at 0x21406a6d6c8>"
      ]
     },
     "execution_count": 148,
     "metadata": {},
     "output_type": "execute_result"
    },
    {
     "data": {
      "image/png": "[encoded data removed]",
      "text/plain": [
       "<Figure size 432x288 with 2 Axes>"
      ]
     },
     "metadata": {
      "needs_background": "light"
     },
     "output_type": "display_data"
    }
   ],
   "source": [
    "sns.heatmap(data.isnull())"
   ]
  },
  {
   "cell_type": "code",
   "execution_count": 155,
   "metadata": {},
   "outputs": [
    {
     "name": "stderr",
     "output_type": "stream",
     "text": [
      "G:\\Anaconda\\lib\\site-packages\\ipykernel_launcher.py:4: SettingWithCopyWarning: \n",
      "A value is trying to be set on a copy of a slice from a DataFrame\n",
      "\n",
      "See the caveats in the documentation: https://pandas.pydata.org/pandas-docs/stable/user_guide/indexing.html#returning-a-view-versus-a-copy\n",
      "  after removing the cwd from sys.path.\n",
      "G:\\Anaconda\\lib\\site-packages\\ipykernel_launcher.py:6: SettingWithCopyWarning: \n",
      "A value is trying to be set on a copy of a slice from a DataFrame\n",
      "\n",
      "See the caveats in the documentation: https://pandas.pydata.org/pandas-docs/stable/user_guide/indexing.html#returning-a-view-versus-a-copy\n",
      "  \n"
     ]
    }
   ],
   "source": [
    "c=[]\n",
    "for i in range(len(data)):\n",
    "    if data['mag'][i]<5:\n",
    "        data['cdi'][i]=(0.4466+0.8809*data['mag'][i]-0.02945*((4+data['dmin'][i]**2)**0.5))\n",
    "    else:\n",
    "        data['cdi'][i]=float(0.4466+0.8809*data['mag'][i]-0.02945*((25+data['dmin'][i]**2)**0.5)+ 0.002100*data['mag'][i]*data['dmin'][i] )"
   ]
  },
  {
   "cell_type": "code",
   "execution_count": 156,
   "metadata": {},
   "outputs": [
    {
     "name": "stdout",
     "output_type": "stream",
     "text": [
      "<class 'pandas.core.frame.DataFrame'>\n",
      "RangeIndex: 15975 entries, 0 to 15974\n",
      "Data columns (total 8 columns):\n",
      " #   Column     Non-Null Count  Dtype  \n",
      "---  ------     --------------  -----  \n",
      " 0   time       15975 non-null  object \n",
      " 1   latitude   15975 non-null  float64\n",
      " 2   longitude  15975 non-null  float64\n",
      " 3   depth      15975 non-null  float64\n",
      " 4   mag        15970 non-null  float64\n",
      " 5   dmin       15975 non-null  float64\n",
      " 6   place      15975 non-null  object \n",
      " 7   cdi        15970 non-null  float64\n",
      "dtypes: float64(6), object(2)\n",
      "memory usage: 998.6+ KB\n"
     ]
    }
   ],
   "source": [
    "data.info()"
   ]
  },
  {
   "cell_type": "code",
   "execution_count": 174,
   "metadata": {},
   "outputs": [],
   "source": [
    "X=data[['mag','dmin']]\n",
    "Y=data['cdi']"
   ]
  },
  {
   "cell_type": "code",
   "execution_count": 175,
   "metadata": {},
   "outputs": [],
   "source": [
    "from sklearn.model_selection import train_test_split"
   ]
  },
  {
   "cell_type": "code",
   "execution_count": 176,
   "metadata": {},
   "outputs": [],
   "source": [
    "X_train,X_test,y_train,y_test=train_test_split(X,Y,test_size=0.3,random_state=101)"
   ]
  },
  {
   "cell_type": "code",
   "execution_count": 177,
   "metadata": {},
   "outputs": [],
   "source": [
    "from sklearn.linear_model import LinearRegression"
   ]
  },
  {
   "cell_type": "code",
   "execution_count": 178,
   "metadata": {},
   "outputs": [],
   "source": [
    "lm=LinearRegression()"
   ]
  },
  {
   "cell_type": "code",
   "execution_count": 179,
   "metadata": {},
   "outputs": [
    {
     "data": {
      "text/plain": [
       "LinearRegression(copy_X=True, fit_intercept=True, n_jobs=None, normalize=False)"
      ]
     },
     "execution_count": 179,
     "metadata": {},
     "output_type": "execute_result"
    }
   ],
   "source": [
    "lm.fit(X_train,y_train)"
   ]
  },
  {
   "cell_type": "code",
   "execution_count": 180,
   "metadata": {},
   "outputs": [
    {
     "data": {
      "text/plain": [
       "array([0.79403953, 1.00587675, 0.67913898, ..., 1.68388766, 2.49770083,\n",
       "       1.43874144])"
      ]
     },
     "execution_count": 180,
     "metadata": {},
     "output_type": "execute_result"
    }
   ],
   "source": [
    "predict=lm.predict(X_test)\n",
    "predict"
   ]
  },
  {
   "cell_type": "code",
   "execution_count": 181,
   "metadata": {},
   "outputs": [],
   "source": [
    "from sklearn.metrics import accuracy_score"
   ]
  },
  {
   "cell_type": "code",
   "execution_count": 183,
   "metadata": {},
   "outputs": [
    {
     "data": {
      "text/plain": [
       "0.9933235969121635"
      ]
     },
     "execution_count": 183,
     "metadata": {},
     "output_type": "execute_result"
    }
   ],
   "source": [
    "accuracy_score(y_test.astype('int'),predict.astype('int'))"
   ]
  }
 ],
 "metadata": {
  "kernelspec": {
   "display_name": "Python 3",
   "language": "python",
   "name": "python3"
  },
  "language_info": {
   "codemirror_mode": {
    "name": "ipython",
    "version": 3
   },
   "file_extension": ".py",
   "mimetype": "text/x-python",
   "name": "python",
   "nbconvert_exporter": "python",
   "pygments_lexer": "ipython3",
   "version": "3.7.6"
  }
 },
 "nbformat": 4,
 "nbformat_minor": 4
}
